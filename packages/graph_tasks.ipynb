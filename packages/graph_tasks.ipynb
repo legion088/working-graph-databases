{
 "cells": [
  {
   "cell_type": "markdown",
   "id": "f09853ce",
   "metadata": {},
   "source": [
    "### <span style=\"color: green\">Тестовое задание по графовым базам данных</span>\n",
    "#### 1. Очищаем все переменные"
   ]
  },
  {
   "cell_type": "code",
   "execution_count": 43,
   "id": "5fffc0f7",
   "metadata": {},
   "outputs": [],
   "source": [
    "%reset -f"
   ]
  },
  {
   "cell_type": "markdown",
   "id": "740d8682",
   "metadata": {},
   "source": [
    "#### 2. Импортируем библиотеки: pandas (работа с данными), neo4j (работа с граф БД), json (rest), random (выбор случайного ФИО)\n"
   ]
  },
  {
   "cell_type": "code",
   "execution_count": 44,
   "id": "faeec401",
   "metadata": {},
   "outputs": [],
   "source": [
    "import pandas as pd\n",
    "from neo4j import GraphDatabase\n",
    "import json\n",
    "import random"
   ]
  },
  {
   "cell_type": "markdown",
   "id": "b6234f98",
   "metadata": {},
   "source": [
    "#### 3. Считываем данные из файла .csv"
   ]
  },
  {
   "cell_type": "code",
   "execution_count": 45,
   "id": "8ce54f25",
   "metadata": {},
   "outputs": [
    {
     "data": {
      "text/html": [
       "<div>\n",
       "<style scoped>\n",
       "    .dataframe tbody tr th:only-of-type {\n",
       "        vertical-align: middle;\n",
       "    }\n",
       "\n",
       "    .dataframe tbody tr th {\n",
       "        vertical-align: top;\n",
       "    }\n",
       "\n",
       "    .dataframe thead th {\n",
       "        text-align: right;\n",
       "    }\n",
       "</style>\n",
       "<table border=\"1\" class=\"dataframe\">\n",
       "  <thead>\n",
       "    <tr style=\"text-align: right;\">\n",
       "      <th></th>\n",
       "      <th>id_event</th>\n",
       "      <th>fullname1</th>\n",
       "      <th>fullname2</th>\n",
       "    </tr>\n",
       "  </thead>\n",
       "  <tbody>\n",
       "    <tr>\n",
       "      <th>0</th>\n",
       "      <td>189</td>\n",
       "      <td>Галчевская Карина Владимировна</td>\n",
       "      <td>Белоновская Анастасия Семеновна</td>\n",
       "    </tr>\n",
       "    <tr>\n",
       "      <th>1</th>\n",
       "      <td>206</td>\n",
       "      <td>Офицеров Олег Романович</td>\n",
       "      <td>Сапожник Борис Валерьевич</td>\n",
       "    </tr>\n",
       "    <tr>\n",
       "      <th>2</th>\n",
       "      <td>445</td>\n",
       "      <td>Жандарова Лариса Германовна</td>\n",
       "      <td>Чемодуров Дамир Русланович</td>\n",
       "    </tr>\n",
       "    <tr>\n",
       "      <th>3</th>\n",
       "      <td>503</td>\n",
       "      <td>Масимова Яна Дамировна</td>\n",
       "      <td>Мингажетдинов Рамиль Семенович</td>\n",
       "    </tr>\n",
       "    <tr>\n",
       "      <th>4</th>\n",
       "      <td>571</td>\n",
       "      <td>Мухтарова Алена Яковлевна</td>\n",
       "      <td>Щербатенко Ольга Робертовна</td>\n",
       "    </tr>\n",
       "    <tr>\n",
       "      <th>5</th>\n",
       "      <td>595</td>\n",
       "      <td>Русских Кира Константиновна</td>\n",
       "      <td>Федутинов Артем Артурович</td>\n",
       "    </tr>\n",
       "    <tr>\n",
       "      <th>6</th>\n",
       "      <td>637</td>\n",
       "      <td>Федонкина Кристина Маратовна</td>\n",
       "      <td>Маргиев Григорий Иванович</td>\n",
       "    </tr>\n",
       "    <tr>\n",
       "      <th>7</th>\n",
       "      <td>741</td>\n",
       "      <td>Чернолусская Екатерина Марселевна</td>\n",
       "      <td>Бухановская Лидия Радиковна</td>\n",
       "    </tr>\n",
       "    <tr>\n",
       "      <th>8</th>\n",
       "      <td>996</td>\n",
       "      <td>Оранский Владимир Артурович</td>\n",
       "      <td>Скотников Виктор Ильич</td>\n",
       "    </tr>\n",
       "    <tr>\n",
       "      <th>9</th>\n",
       "      <td>1210</td>\n",
       "      <td>Ардатов Андрей Анатольевич</td>\n",
       "      <td>Ханыгин Дмитрий Юрьевич</td>\n",
       "    </tr>\n",
       "  </tbody>\n",
       "</table>\n",
       "</div>"
      ],
      "text/plain": [
       "   id_event                          fullname1  \\\n",
       "0       189     Галчевская Карина Владимировна   \n",
       "1       206            Офицеров Олег Романович   \n",
       "2       445        Жандарова Лариса Германовна   \n",
       "3       503             Масимова Яна Дамировна   \n",
       "4       571          Мухтарова Алена Яковлевна   \n",
       "5       595        Русских Кира Константиновна   \n",
       "6       637       Федонкина Кристина Маратовна   \n",
       "7       741  Чернолусская Екатерина Марселевна   \n",
       "8       996        Оранский Владимир Артурович   \n",
       "9      1210         Ардатов Андрей Анатольевич   \n",
       "\n",
       "                         fullname2  \n",
       "0  Белоновская Анастасия Семеновна  \n",
       "1        Сапожник Борис Валерьевич  \n",
       "2       Чемодуров Дамир Русланович  \n",
       "3   Мингажетдинов Рамиль Семенович  \n",
       "4      Щербатенко Ольга Робертовна  \n",
       "5        Федутинов Артем Артурович  \n",
       "6        Маргиев Григорий Иванович  \n",
       "7      Бухановская Лидия Радиковна  \n",
       "8           Скотников Виктор Ильич  \n",
       "9          Ханыгин Дмитрий Юрьевич  "
      ]
     },
     "execution_count": 45,
     "metadata": {},
     "output_type": "execute_result"
    }
   ],
   "source": [
    "data = pd.read_csv(\"../files/data_test.csv\", \n",
    "                   names=['id_event', 'fullname1', 'fullname2'], \n",
    "                   header=0, sep=\";\")\n",
    "data.head(10)"
   ]
  },
  {
   "cell_type": "markdown",
   "id": "e5a89e48",
   "metadata": {},
   "source": [
    "#### 4. Формируем словарь со свойствами для каждого node и запрос для внесения данных в БД<br> props - словарь со свойствами<br>query - запрос для внесения данных (создаем Participants1, Participants2, Event) "
   ]
  },
  {
   "cell_type": "code",
   "execution_count": 46,
   "id": "65b788fe",
   "metadata": {},
   "outputs": [],
   "source": [
    "def get_multiple_nodes_properties(df: object) -> dict:\n",
    "    records = {\n",
    "    \"props\": []\n",
    "    }\n",
    "    \n",
    "    for row in data.itertuples(index=False):\n",
    "        records[\"props\"].append({'id_event':  row[0], \n",
    "                                 'fullname1': row[1],\n",
    "                                 'fullname2': row[2]})\n",
    "    return records\n",
    "\n",
    "props = get_multiple_nodes_properties(data)\n",
    "query = \"\"\"\n",
    "UNWIND $props as user \n",
    "MERGE(p1:  Participants1 {name: user.fullname1, id_event: user.id_event })\n",
    "MERGE(p2:  Participants2 {name: user.fullname2, id_event: user.id_event })\n",
    "MERGE(e: Event {name: user.id_event})\n",
    "\"\"\"\n"
   ]
  },
  {
   "cell_type": "markdown",
   "id": "2d530e3f",
   "metadata": {},
   "source": [
    "#### 5. Проверяем количество значений словаря `props` "
   ]
  },
  {
   "cell_type": "code",
   "execution_count": 47,
   "id": "ce0ba6dd",
   "metadata": {},
   "outputs": [
    {
     "data": {
      "text/plain": [
       "5000"
      ]
     },
     "execution_count": 47,
     "metadata": {},
     "output_type": "execute_result"
    }
   ],
   "source": [
    "len(props.get('props'))"
   ]
  },
  {
   "cell_type": "markdown",
   "id": "d022b14f",
   "metadata": {},
   "source": [
    "#### 6. Подключаемся к БД и заносим данные на основе `query` и `props` "
   ]
  },
  {
   "cell_type": "code",
   "execution_count": 48,
   "id": "3969f2e1",
   "metadata": {},
   "outputs": [],
   "source": [
    "class LocalDatabaseNeo4j:\n",
    "    def __init__(self, uri, db, user, password):\n",
    "        self.driver = GraphDatabase.driver(uri, database=db, auth=(user, password))\n",
    "\n",
    "    def execute_queries(self, query, props=None):\n",
    "        with self.driver.session() as session:\n",
    "            session.run(query, props)\n",
    "\n",
    "    def close(self):\n",
    "        self.driver.close()\n",
    "\n",
    "\n",
    "graphs = LocalDatabaseNeo4j(\"bolt://localhost:7687\", \"graphdata\", \"mark\", \"123\")\n",
    "graphs.execute_queries(query, props)\n",
    "graphs.close()"
   ]
  },
  {
   "cell_type": "markdown",
   "id": "7fec21b3",
   "metadata": {},
   "source": [
    "#### 7. Rest сервис"
   ]
  },
  {
   "cell_type": "code",
   "execution_count": 49,
   "id": "6b5ac356",
   "metadata": {},
   "outputs": [
    {
     "name": "stdout",
     "output_type": "stream",
     "text": [
      "Поиск: Белехов Владимир Никитович\n"
     ]
    }
   ],
   "source": [
    "all_participants = data.fullname1.to_list()\n",
    "\n",
    "name = ''.join(random.choices(all_participants))\n",
    "query_rest = \"\"\"\n",
    "MATCH (properties: Participants1 | Participants2)\n",
    "WHERE properties.name = $name\n",
    "RETURN properties\n",
    "\"\"\"\n",
    "print(\"Поиск:\", name)"
   ]
  },
  {
   "cell_type": "code",
   "execution_count": 50,
   "id": "57548a79",
   "metadata": {},
   "outputs": [],
   "source": [
    "class LocalDatabaseNeo4j:\n",
    "    def __init__(self, uri, db, user, password):\n",
    "        self.driver = GraphDatabase.driver(uri, database=db, auth=(user, password))\n",
    "\n",
    "    def execute_queries(self, query, name=None):\n",
    "        with self.driver.session() as session:\n",
    "            return session.run(query, name=name).data()\n",
    "\n",
    "    def close(self):\n",
    "        self.driver.close()\n",
    "\n",
    "\n",
    "graphs = LocalDatabaseNeo4j(\"bolt://localhost:7687\", \"graphdata\", \"mark\", \"123\")\n",
    "rest = json.dumps(graphs.execute_queries(query_rest, name),  ensure_ascii=False,\n",
    "                                                             indent=2)\n",
    "graphs.close()"
   ]
  },
  {
   "cell_type": "code",
   "execution_count": 51,
   "id": "16eef3cc",
   "metadata": {},
   "outputs": [
    {
     "name": "stdout",
     "output_type": "stream",
     "text": [
      "[\n",
      "  {\n",
      "    \"properties\": {\n",
      "      \"name\": \"Белехов Владимир Никитович\",\n",
      "      \"id_event\": 413843\n",
      "    }\n",
      "  }\n",
      "]\n"
     ]
    }
   ],
   "source": [
    "print(rest)"
   ]
  },
  {
   "cell_type": "code",
   "execution_count": null,
   "id": "6c7c2069",
   "metadata": {},
   "outputs": [],
   "source": []
  }
 ],
 "metadata": {
  "kernelspec": {
   "display_name": "Python 3 (ipykernel)",
   "language": "python",
   "name": "python3"
  },
  "language_info": {
   "codemirror_mode": {
    "name": "ipython",
    "version": 3
   },
   "file_extension": ".py",
   "mimetype": "text/x-python",
   "name": "python",
   "nbconvert_exporter": "python",
   "pygments_lexer": "ipython3",
   "version": "3.9.5"
  }
 },
 "nbformat": 4,
 "nbformat_minor": 5
}
